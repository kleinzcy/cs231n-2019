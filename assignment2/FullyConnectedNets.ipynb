{
 "cells": [
  {
   "cell_type": "markdown",
   "metadata": {
    "tags": [
     "pdf-title"
    ]
   },
   "source": [
    "# Fully-Connected Neural Nets\n",
    "In the previous homework you implemented a fully-connected two-layer neural network on CIFAR-10. The implementation was simple but not very modular since the loss and gradient were computed in a single monolithic function. This is manageable for a simple two-layer network, but would become impractical as we move to bigger models. Ideally we want to build networks using a more modular design so that we can implement different layer types in isolation and then snap them together into models with different architectures."
   ]
  },
  {
   "cell_type": "markdown",
   "metadata": {
    "tags": [
     "pdf-ignore"
    ]
   },
   "source": [
    "In this exercise we will implement fully-connected networks using a more modular approach. For each layer we will implement a `forward` and a `backward` function. The `forward` function will receive inputs, weights, and other parameters and will return both an output and a `cache` object storing data needed for the backward pass, like this:\n",
    "\n",
    "```python\n",
    "def layer_forward(x, w):\n",
    "  \"\"\" Receive inputs x and weights w \"\"\"\n",
    "  # Do some computations ...\n",
    "  z = # ... some intermediate value\n",
    "  # Do some more computations ...\n",
    "  out = # the output\n",
    "   \n",
    "  cache = (x, w, z, out) # Values we need to compute gradients\n",
    "   \n",
    "  return out, cache\n",
    "```\n",
    "\n",
    "The backward pass will receive upstream derivatives and the `cache` object, and will return gradients with respect to the inputs and weights, like this:\n",
    "\n",
    "```python\n",
    "def layer_backward(dout, cache):\n",
    "  \"\"\"\n",
    "  Receive dout (derivative of loss with respect to outputs) and cache,\n",
    "  and compute derivative with respect to inputs.\n",
    "  \"\"\"\n",
    "  # Unpack cache values\n",
    "  x, w, z, out = cache\n",
    "  \n",
    "  # Use values in cache to compute derivatives\n",
    "  dx = # Derivative of loss with respect to x\n",
    "  dw = # Derivative of loss with respect to w\n",
    "  \n",
    "  return dx, dw\n",
    "```\n",
    "\n",
    "After implementing a bunch of layers this way, we will be able to easily combine them to build classifiers with different architectures.\n",
    "\n",
    "In addition to implementing fully-connected networks of arbitrary depth, we will also explore different update rules for optimization, and introduce Dropout as a regularizer and Batch/Layer Normalization as a tool to more efficiently optimize deep networks.\n",
    "  "
   ]
  },
  {
   "cell_type": "code",
   "execution_count": 4,
   "metadata": {
    "tags": [
     "pdf-ignore"
    ]
   },
   "outputs": [
    {
     "name": "stdout",
     "output_type": "stream",
     "text": [
      "The autoreload extension is already loaded. To reload it, use:\n",
      "  %reload_ext autoreload\n"
     ]
    },
    {
     "name": "stderr",
     "output_type": "stream",
     "text": [
      "[autoreload of cs231n.classifiers.fc_net failed: Traceback (most recent call last):\n",
      "  File \"/home/zeven/anaconda3/lib/python3.7/site-packages/IPython/extensions/autoreload.py\", line 245, in check\n",
      "    superreload(m, reload, self.old_objects)\n",
      "  File \"/home/zeven/anaconda3/lib/python3.7/site-packages/IPython/extensions/autoreload.py\", line 450, in superreload\n",
      "    update_generic(old_obj, new_obj)\n",
      "  File \"/home/zeven/anaconda3/lib/python3.7/site-packages/IPython/extensions/autoreload.py\", line 387, in update_generic\n",
      "    update(a, b)\n",
      "  File \"/home/zeven/anaconda3/lib/python3.7/site-packages/IPython/extensions/autoreload.py\", line 357, in update_class\n",
      "    update_instances(old, new)\n",
      "  File \"/home/zeven/anaconda3/lib/python3.7/site-packages/IPython/extensions/autoreload.py\", line 317, in update_instances\n",
      "    update_instances(old, new, obj, visited)\n",
      "  File \"/home/zeven/anaconda3/lib/python3.7/site-packages/IPython/extensions/autoreload.py\", line 317, in update_instances\n",
      "    update_instances(old, new, obj, visited)\n",
      "  File \"/home/zeven/anaconda3/lib/python3.7/site-packages/IPython/extensions/autoreload.py\", line 317, in update_instances\n",
      "    update_instances(old, new, obj, visited)\n",
      "  [Previous line repeated 2 more times]\n",
      "  File \"/home/zeven/anaconda3/lib/python3.7/site-packages/IPython/extensions/autoreload.py\", line 310, in update_instances\n",
      "    if hasattr(obj, '__dict__') and not (inspect.isfunction(obj)\n",
      "KeyboardInterrupt\n",
      "]\n"
     ]
    }
   ],
   "source": [
    "# As usual, a bit of setup\n",
    "from __future__ import print_function\n",
    "import time\n",
    "import numpy as np\n",
    "import matplotlib.pyplot as plt\n",
    "from cs231n.classifiers.fc_net import *\n",
    "from cs231n.data_utils import get_CIFAR10_data\n",
    "from cs231n.gradient_check import eval_numerical_gradient, eval_numerical_gradient_array\n",
    "from cs231n.solver import Solver\n",
    "\n",
    "%matplotlib inline\n",
    "plt.rcParams['figure.figsize'] = (10.0, 8.0) # set default size of plots\n",
    "plt.rcParams['image.interpolation'] = 'nearest'\n",
    "plt.rcParams['image.cmap'] = 'gray'\n",
    "\n",
    "# for auto-reloading external modules\n",
    "# see http://stackoverflow.com/questions/1907993/autoreload-of-modules-in-ipython\n",
    "%load_ext autoreload\n",
    "%autoreload 2\n",
    "\n",
    "def rel_error(x, y):\n",
    "  \"\"\" returns relative error \"\"\"\n",
    "  return np.max(np.abs(x - y) / (np.maximum(1e-8, np.abs(x) + np.abs(y))))"
   ]
  },
  {
   "cell_type": "code",
   "execution_count": 2,
   "metadata": {
    "tags": [
     "pdf-ignore"
    ]
   },
   "outputs": [
    {
     "name": "stdout",
     "output_type": "stream",
     "text": [
      "('X_train: ', (49000, 3, 32, 32))\n",
      "('y_train: ', (49000,))\n",
      "('X_val: ', (1000, 3, 32, 32))\n",
      "('y_val: ', (1000,))\n",
      "('X_test: ', (1000, 3, 32, 32))\n",
      "('y_test: ', (1000,))\n"
     ]
    }
   ],
   "source": [
    "# Load the (preprocessed) CIFAR10 data.\n",
    "\n",
    "data = get_CIFAR10_data()\n",
    "for k, v in list(data.items()):\n",
    "  print(('%s: ' % k, v.shape))"
   ]
  },
  {
   "cell_type": "markdown",
   "metadata": {},
   "source": [
    "# Affine layer: foward\n",
    "Open the file `cs231n/layers.py` and implement the `affine_forward` function.\n",
    "\n",
    "Once you are done you can test your implementaion by running the following:"
   ]
  },
  {
   "cell_type": "code",
   "execution_count": 3,
   "metadata": {},
   "outputs": [
    {
     "name": "stdout",
     "output_type": "stream",
     "text": [
      "Testing affine_forward function:\n",
      "difference:  9.769847728806635e-10\n"
     ]
    }
   ],
   "source": [
    "# Test the affine_forward function\n",
    "\n",
    "num_inputs = 2\n",
    "input_shape = (4, 5, 6)\n",
    "output_dim = 3\n",
    "\n",
    "input_size = num_inputs * np.prod(input_shape)\n",
    "weight_size = output_dim * np.prod(input_shape)\n",
    "\n",
    "x = np.linspace(-0.1, 0.5, num=input_size).reshape(num_inputs, *input_shape)\n",
    "w = np.linspace(-0.2, 0.3, num=weight_size).reshape(np.prod(input_shape), output_dim)\n",
    "b = np.linspace(-0.3, 0.1, num=output_dim)\n",
    "\n",
    "out, _ = affine_forward(x, w, b)\n",
    "correct_out = np.array([[ 1.49834967,  1.70660132,  1.91485297],\n",
    "                        [ 3.25553199,  3.5141327,   3.77273342]])\n",
    "\n",
    "# Compare your output with ours. The error should be around e-9 or less.\n",
    "print('Testing affine_forward function:')\n",
    "print('difference: ', rel_error(out, correct_out))"
   ]
  },
  {
   "cell_type": "markdown",
   "metadata": {},
   "source": [
    "# Affine layer: backward\n",
    "Now implement the `affine_backward` function and test your implementation using numeric gradient checking."
   ]
  },
  {
   "cell_type": "code",
   "execution_count": 4,
   "metadata": {},
   "outputs": [
    {
     "name": "stdout",
     "output_type": "stream",
     "text": [
      "Testing affine_backward function:\n",
      "dx error:  5.399100368651805e-11\n",
      "dw error:  9.904211865398145e-11\n",
      "db error:  2.4122867568119087e-11\n"
     ]
    }
   ],
   "source": [
    "# Test the affine_backward function\n",
    "np.random.seed(231)\n",
    "x = np.random.randn(10, 2, 3)\n",
    "w = np.random.randn(6, 5)\n",
    "b = np.random.randn(5)\n",
    "dout = np.random.randn(10, 5)\n",
    "\n",
    "dx_num = eval_numerical_gradient_array(lambda x: affine_forward(x, w, b)[0], x, dout)\n",
    "dw_num = eval_numerical_gradient_array(lambda w: affine_forward(x, w, b)[0], w, dout)\n",
    "db_num = eval_numerical_gradient_array(lambda b: affine_forward(x, w, b)[0], b, dout)\n",
    "\n",
    "_, cache = affine_forward(x, w, b)\n",
    "dx, dw, db = affine_backward(dout, cache)\n",
    "\n",
    "# The error should be around e-10 or less\n",
    "print('Testing affine_backward function:')\n",
    "print('dx error: ', rel_error(dx_num, dx))\n",
    "print('dw error: ', rel_error(dw_num, dw))\n",
    "print('db error: ', rel_error(db_num, db))"
   ]
  },
  {
   "cell_type": "markdown",
   "metadata": {},
   "source": [
    "# ReLU activation: forward\n",
    "Implement the forward pass for the ReLU activation function in the `relu_forward` function and test your implementation using the following:"
   ]
  },
  {
   "cell_type": "code",
   "execution_count": 5,
   "metadata": {},
   "outputs": [
    {
     "name": "stdout",
     "output_type": "stream",
     "text": [
      "Testing relu_forward function:\n",
      "difference:  4.999999798022158e-08\n"
     ]
    }
   ],
   "source": [
    "# Test the relu_forward function\n",
    "\n",
    "x = np.linspace(-0.5, 0.5, num=12).reshape(3, 4)\n",
    "\n",
    "out, _ = relu_forward(x)\n",
    "correct_out = np.array([[ 0.,          0.,          0.,          0.,        ],\n",
    "                        [ 0.,          0.,          0.04545455,  0.13636364,],\n",
    "                        [ 0.22727273,  0.31818182,  0.40909091,  0.5,       ]])\n",
    "\n",
    "# Compare your output with ours. The error should be on the order of e-8\n",
    "print('Testing relu_forward function:')\n",
    "print('difference: ', rel_error(out, correct_out))"
   ]
  },
  {
   "cell_type": "markdown",
   "metadata": {},
   "source": [
    "# ReLU activation: backward\n",
    "Now implement the backward pass for the ReLU activation function in the `relu_backward` function and test your implementation using numeric gradient checking:"
   ]
  },
  {
   "cell_type": "code",
   "execution_count": 6,
   "metadata": {},
   "outputs": [
    {
     "name": "stdout",
     "output_type": "stream",
     "text": [
      "Testing relu_backward function:\n",
      "dx error:  3.2756349136310288e-12\n"
     ]
    }
   ],
   "source": [
    "np.random.seed(231)\n",
    "x = np.random.randn(10, 10)\n",
    "dout = np.random.randn(*x.shape)\n",
    "\n",
    "dx_num = eval_numerical_gradient_array(lambda x: relu_forward(x)[0], x, dout)\n",
    "\n",
    "_, cache = relu_forward(x)\n",
    "dx = relu_backward(dout, cache)\n",
    "\n",
    "# The error should be on the order of e-12\n",
    "print('Testing relu_backward function:')\n",
    "print('dx error: ', rel_error(dx_num, dx))"
   ]
  },
  {
   "cell_type": "markdown",
   "metadata": {
    "tags": [
     "pdf-inline"
    ]
   },
   "source": [
    "## Inline Question 1: \n",
    "\n",
    "We've only asked you to implement ReLU, but there are a number of different activation functions that one could use in neural networks, each with its pros and cons. In particular, an issue commonly seen with activation functions is getting zero (or close to zero) gradient flow during backpropagation. Which of the following activation functions have this problem? If you consider these functions in the one dimensional case, what types of input would lead to this behaviour?\n",
    "1. Sigmoid\n",
    "2. ReLU\n",
    "3. Leaky ReLU\n",
    "\n",
    "## Answer:\n",
    "[Sigmoid]\n",
    "When the input is bigger than 10 or smaller than -10, the gradient flow will close to zero. "
   ]
  },
  {
   "cell_type": "markdown",
   "metadata": {},
   "source": [
    "\n",
    "\n",
    "# \"Sandwich\" layers\n",
    "There are some common patterns of layers that are frequently used in neural nets. For example, affine layers are frequently followed by a ReLU nonlinearity. To make these common patterns easy, we define several convenience layers in the file `cs231n/layer_utils.py`.\n",
    "\n",
    "For now take a look at the `affine_relu_forward` and `affine_relu_backward` functions, and run the following to numerically gradient check the backward pass:"
   ]
  },
  {
   "cell_type": "code",
   "execution_count": 7,
   "metadata": {},
   "outputs": [
    {
     "name": "stdout",
     "output_type": "stream",
     "text": [
      "Testing affine_relu_forward and affine_relu_backward:\n",
      "dx error:  6.750562121603446e-11\n",
      "dw error:  8.162015570444288e-11\n",
      "db error:  7.826724021458994e-12\n"
     ]
    }
   ],
   "source": [
    "from cs231n.layer_utils import affine_relu_forward, affine_relu_backward\n",
    "np.random.seed(231)\n",
    "x = np.random.randn(2, 3, 4)\n",
    "w = np.random.randn(12, 10)\n",
    "b = np.random.randn(10)\n",
    "dout = np.random.randn(2, 10)\n",
    "\n",
    "out, cache = affine_relu_forward(x, w, b)\n",
    "dx, dw, db = affine_relu_backward(dout, cache)\n",
    "\n",
    "dx_num = eval_numerical_gradient_array(lambda x: affine_relu_forward(x, w, b)[0], x, dout)\n",
    "dw_num = eval_numerical_gradient_array(lambda w: affine_relu_forward(x, w, b)[0], w, dout)\n",
    "db_num = eval_numerical_gradient_array(lambda b: affine_relu_forward(x, w, b)[0], b, dout)\n",
    "\n",
    "# Relative error should be around e-10 or less\n",
    "print('Testing affine_relu_forward and affine_relu_backward:')\n",
    "print('dx error: ', rel_error(dx_num, dx))\n",
    "print('dw error: ', rel_error(dw_num, dw))\n",
    "print('db error: ', rel_error(db_num, db))"
   ]
  },
  {
   "cell_type": "markdown",
   "metadata": {},
   "source": [
    "# Loss layers: Softmax and SVM\n",
    "You implemented these loss functions in the last assignment, so we'll give them to you for free here. You should still make sure you understand how they work by looking at the implementations in `cs231n/layers.py`.\n",
    "\n",
    "You can make sure that the implementations are correct by running the following:"
   ]
  },
  {
   "cell_type": "code",
   "execution_count": 8,
   "metadata": {},
   "outputs": [
    {
     "name": "stdout",
     "output_type": "stream",
     "text": [
      "Testing svm_loss:\n",
      "loss:  8.999602749096233\n",
      "dx error:  1.4021566006651672e-09\n",
      "\n",
      "Testing softmax_loss:\n",
      "loss:  2.302545844500738\n",
      "dx error:  9.384673161989355e-09\n"
     ]
    }
   ],
   "source": [
    "np.random.seed(231)\n",
    "num_classes, num_inputs = 10, 50\n",
    "x = 0.001 * np.random.randn(num_inputs, num_classes)\n",
    "y = np.random.randint(num_classes, size=num_inputs)\n",
    "\n",
    "dx_num = eval_numerical_gradient(lambda x: svm_loss(x, y)[0], x, verbose=False)\n",
    "loss, dx = svm_loss(x, y)\n",
    "\n",
    "# Test svm_loss function. Loss should be around 9 and dx error should be around the order of e-9\n",
    "print('Testing svm_loss:')\n",
    "print('loss: ', loss)\n",
    "print('dx error: ', rel_error(dx_num, dx))\n",
    "\n",
    "dx_num = eval_numerical_gradient(lambda x: softmax_loss(x, y)[0], x, verbose=False)\n",
    "loss, dx = softmax_loss(x, y)\n",
    "\n",
    "# Test softmax_loss function. Loss should be close to 2.3 and dx error should be around e-8\n",
    "print('\\nTesting softmax_loss:')\n",
    "print('loss: ', loss)\n",
    "print('dx error: ', rel_error(dx_num, dx))"
   ]
  },
  {
   "cell_type": "markdown",
   "metadata": {},
   "source": [
    "# Two-layer network\n",
    "In the previous assignment you implemented a two-layer neural network in a single monolithic class. Now that you have implemented modular versions of the necessary layers, you will reimplement the two layer network using these modular implementations.\n",
    "\n",
    "Open the file `cs231n/classifiers/fc_net.py` and complete the implementation of the `TwoLayerNet` class. This class will serve as a model for the other networks you will implement in this assignment, so read through it to make sure you understand the API. You can run the cell below to test your implementation."
   ]
  },
  {
   "cell_type": "code",
   "execution_count": 9,
   "metadata": {},
   "outputs": [
    {
     "name": "stdout",
     "output_type": "stream",
     "text": [
      "Testing initialization ... \n",
      "Testing test-time forward pass ... \n",
      "Testing training loss (no regularization)\n",
      "Running numeric gradient check with reg =  0.0\n",
      "W1 relative error: 1.22e-08\n",
      "W2 relative error: 3.48e-10\n",
      "b1 relative error: 6.55e-09\n",
      "b2 relative error: 4.33e-10\n",
      "Running numeric gradient check with reg =  0.7\n",
      "W1 relative error: 8.18e-07\n",
      "W2 relative error: 7.98e-08\n",
      "b1 relative error: 1.09e-09\n",
      "b2 relative error: 7.76e-10\n"
     ]
    }
   ],
   "source": [
    "np.random.seed(231)\n",
    "N, D, H, C = 3, 5, 50, 7\n",
    "X = np.random.randn(N, D)\n",
    "y = np.random.randint(C, size=N)\n",
    "\n",
    "std = 1e-3\n",
    "model = TwoLayerNet(input_dim=D, hidden_dim=H, num_classes=C, weight_scale=std)\n",
    "\n",
    "print('Testing initialization ... ')\n",
    "W1_std = abs(model.params['W1'].std() - std)\n",
    "b1 = model.params['b1']\n",
    "W2_std = abs(model.params['W2'].std() - std)\n",
    "b2 = model.params['b2']\n",
    "assert W1_std < std / 10, 'First layer weights do not seem right'\n",
    "assert np.all(b1 == 0), 'First layer biases do not seem right'\n",
    "assert W2_std < std / 10, 'Second layer weights do not seem right'\n",
    "assert np.all(b2 == 0), 'Second layer biases do not seem right'\n",
    "\n",
    "print('Testing test-time forward pass ... ')\n",
    "model.params['W1'] = np.linspace(-0.7, 0.3, num=D*H).reshape(D, H)\n",
    "model.params['b1'] = np.linspace(-0.1, 0.9, num=H)\n",
    "model.params['W2'] = np.linspace(-0.3, 0.4, num=H*C).reshape(H, C)\n",
    "model.params['b2'] = np.linspace(-0.9, 0.1, num=C)\n",
    "X = np.linspace(-5.5, 4.5, num=N*D).reshape(D, N).T\n",
    "scores = model.loss(X)\n",
    "correct_scores = np.asarray(\n",
    "  [[11.53165108,  12.2917344,   13.05181771,  13.81190102,  14.57198434, 15.33206765,  16.09215096],\n",
    "   [12.05769098,  12.74614105,  13.43459113,  14.1230412,   14.81149128, 15.49994135,  16.18839143],\n",
    "   [12.58373087,  13.20054771,  13.81736455,  14.43418138,  15.05099822, 15.66781506,  16.2846319 ]])\n",
    "scores_diff = np.abs(scores - correct_scores).sum()\n",
    "assert scores_diff < 1e-6, 'Problem with test-time forward pass'\n",
    "\n",
    "print('Testing training loss (no regularization)')\n",
    "y = np.asarray([0, 5, 1])\n",
    "loss, grads = model.loss(X, y)\n",
    "correct_loss = 3.4702243556\n",
    "assert abs(loss - correct_loss) < 1e-10, 'Problem with training-time loss'\n",
    "\n",
    "model.reg = 1.0\n",
    "loss, grads = model.loss(X, y)\n",
    "correct_loss = 26.5948426952\n",
    "assert abs(loss - correct_loss) < 1e-10, 'Problem with regularization loss'\n",
    "\n",
    "# Errors should be around e-7 or less\n",
    "for reg in [0.0, 0.7]:\n",
    "  print('Running numeric gradient check with reg = ', reg)\n",
    "  model.reg = reg\n",
    "  loss, grads = model.loss(X, y)\n",
    "\n",
    "  for name in sorted(grads):\n",
    "    f = lambda _: model.loss(X, y)[0]\n",
    "    grad_num = eval_numerical_gradient(f, model.params[name], verbose=False)\n",
    "    print('%s relative error: %.2e' % (name, rel_error(grad_num, grads[name])))"
   ]
  },
  {
   "cell_type": "markdown",
   "metadata": {},
   "source": [
    "# Solver\n",
    "In the previous assignment, the logic for training models was coupled to the models themselves. Following a more modular design, for this assignment we have split the logic for training models into a separate class.\n",
    "\n",
    "Open the file `cs231n/solver.py` and read through it to familiarize yourself with the API. After doing so, use a `Solver` instance to train a `TwoLayerNet` that achieves at least `50%` accuracy on the validation set."
   ]
  },
  {
   "cell_type": "code",
   "execution_count": 10,
   "metadata": {},
   "outputs": [
    {
     "name": "stdout",
     "output_type": "stream",
     "text": [
      "(Iteration 1 / 1910) loss: 2.304067\n",
      "(Epoch 0 / 5) train acc: 0.116000; val_acc: 0.098000\n",
      "(Iteration 101 / 1910) loss: 1.888432\n",
      "(Iteration 201 / 1910) loss: 1.795687\n",
      "(Iteration 301 / 1910) loss: 1.623116\n",
      "(Epoch 1 / 5) train acc: 0.432000; val_acc: 0.444000\n",
      "(Iteration 401 / 1910) loss: 1.544245\n",
      "(Iteration 501 / 1910) loss: 1.490040\n",
      "(Iteration 601 / 1910) loss: 1.540757\n",
      "(Iteration 701 / 1910) loss: 1.361803\n",
      "(Epoch 2 / 5) train acc: 0.500000; val_acc: 0.484000\n",
      "(Iteration 801 / 1910) loss: 1.402788\n",
      "(Iteration 901 / 1910) loss: 1.440921\n",
      "(Iteration 1001 / 1910) loss: 1.539622\n",
      "(Iteration 1101 / 1910) loss: 1.211048\n",
      "(Epoch 3 / 5) train acc: 0.490000; val_acc: 0.483000\n",
      "(Iteration 1201 / 1910) loss: 1.388970\n",
      "(Iteration 1301 / 1910) loss: 1.342081\n",
      "(Iteration 1401 / 1910) loss: 1.423658\n",
      "(Iteration 1501 / 1910) loss: 1.272621\n",
      "(Epoch 4 / 5) train acc: 0.515000; val_acc: 0.472000\n",
      "(Iteration 1601 / 1910) loss: 1.259922\n",
      "(Iteration 1701 / 1910) loss: 1.375741\n",
      "(Iteration 1801 / 1910) loss: 1.324034\n",
      "(Iteration 1901 / 1910) loss: 1.443741\n",
      "(Epoch 5 / 5) train acc: 0.521000; val_acc: 0.481000\n"
     ]
    }
   ],
   "source": [
    "model = TwoLayerNet()\n",
    "solver = None\n",
    "\n",
    "##############################################################################\n",
    "# TODO: Use a Solver instance to train a TwoLayerNet that achieves at least  #\n",
    "# 50% accuracy on the validation set.                                        #\n",
    "##############################################################################\n",
    "# *****START OF YOUR CODE (DO NOT DELETE/MODIFY THIS LINE)*****\n",
    "\n",
    "solver = Solver(model, data,\n",
    "                update_rule='sgd',\n",
    "                optim_config={\n",
    "                  'learning_rate': 1e-3,\n",
    "                },\n",
    "                lr_decay=0.95,\n",
    "                num_epochs=5, batch_size=128,\n",
    "                print_every=100)\n",
    "solver.train()\n",
    "# *****END OF YOUR CODE (DO NOT DELETE/MODIFY THIS LINE)*****\n",
    "##############################################################################\n",
    "#                             END OF YOUR CODE                               #\n",
    "##############################################################################"
   ]
  },
  {
   "cell_type": "code",
   "execution_count": 11,
   "metadata": {},
   "outputs": [
    {
     "data": {
      "image/png": "[encoded data removed]",
      "text/plain": [
       "<Figure size 1080x864 with 2 Axes>"
      ]
     },
     "metadata": {
      "needs_background": "light"
     },
     "output_type": "display_data"
    }
   ],
   "source": [
    "# Run this cell to visualize training loss and train / val accuracy\n",
    "\n",
    "plt.subplot(2, 1, 1)\n",
    "plt.title('Training loss')\n",
    "plt.plot(solver.loss_history, 'o')\n",
    "plt.xlabel('Iteration')\n",
    "\n",
    "plt.subplot(2, 1, 2)\n",
    "plt.title('Accuracy')\n",
    "plt.plot(solver.train_acc_history, '-o', label='train')\n",
    "plt.plot(solver.val_acc_history, '-o', label='val')\n",
    "plt.plot([0.5] * len(solver.val_acc_history), 'k--')\n",
    "plt.xlabel('Epoch')\n",
    "plt.legend(loc='lower right')\n",
    "plt.gcf().set_size_inches(15, 12)\n",
    "plt.show()"
   ]
  },
  {
   "cell_type": "markdown",
   "metadata": {},
   "source": [
    "# Multilayer network\n",
    "Next you will implement a fully-connected network with an arbitrary number of hidden layers.\n",
    "\n",
    "Read through the `FullyConnectedNet` class in the file `cs231n/classifiers/fc_net.py`.\n",
    "\n",
    "Implement the initialization, the forward pass, and the backward pass. For the moment don't worry about implementing dropout or batch/layer normalization; we will add those features soon."
   ]
  },
  {
   "cell_type": "markdown",
   "metadata": {},
   "source": [
    "## Initial loss and gradient check\n",
    "\n",
    "As a sanity check, run the following to check the initial loss and to gradient check the network both with and without regularization. Do the initial losses seem reasonable?\n",
    "\n",
    "For gradient checking, you should expect to see errors around 1e-7 or less."
   ]
  },
  {
   "cell_type": "code",
   "execution_count": 5,
   "metadata": {},
   "outputs": [
    {
     "name": "stdout",
     "output_type": "stream",
     "text": [
      "Running check with reg =  0\n",
      "Initial loss:  2.3004790897684924\n",
      "W1 relative error: 1.48e-07\n",
      "W2 relative error: 2.21e-05\n",
      "W3 relative error: 3.53e-07\n",
      "b1 relative error: 5.38e-09\n",
      "b2 relative error: 2.09e-09\n",
      "b3 relative error: 5.80e-11\n",
      "Running check with reg =  3.14\n",
      "Initial loss:  7.052114776533016\n",
      "W1 relative error: 3.90e-09\n",
      "W2 relative error: 6.87e-08\n",
      "W3 relative error: 2.13e-08\n",
      "b1 relative error: 1.48e-08\n",
      "b2 relative error: 1.72e-09\n",
      "b3 relative error: 1.57e-10\n"
     ]
    }
   ],
   "source": [
    "np.random.seed(231)\n",
    "N, D, H1, H2, C = 2, 15, 20, 30, 10\n",
    "X = np.random.randn(N, D)\n",
    "y = np.random.randint(C, size=(N,))\n",
    "\n",
    "for reg in [0, 3.14]:\n",
    "  print('Running check with reg = ', reg)\n",
    "  model = FullyConnectedNet([H1, H2], input_dim=D, num_classes=C,\n",
    "                            reg=reg, weight_scale=5e-2, dtype=np.float64)\n",
    "\n",
    "  loss, grads = model.loss(X, y)\n",
    "  print('Initial loss: ', loss)\n",
    "  \n",
    "  # Most of the errors should be on the order of e-7 or smaller.   \n",
    "  # NOTE: It is fine however to see an error for W2 on the order of e-5\n",
    "  # for the check when reg = 0.0\n",
    "  for name in sorted(grads):\n",
    "    f = lambda _: model.loss(X, y)[0]\n",
    "    grad_num = eval_numerical_gradient(f, model.params[name], verbose=False, h=1e-5)\n",
    "    print('%s relative error: %.2e' % (name, rel_error(grad_num, grads[name])))"
   ]
  },
  {
   "cell_type": "markdown",
   "metadata": {},
   "source": [
    "As another sanity check, make sure you can overfit a small dataset of 50 images. First we will try a three-layer network with 100 units in each hidden layer. In the following cell, tweak the **learning rate** and **weight initialization scale** to overfit and achieve 100% training accuracy within 20 epochs."
   ]
  },
  {
   "cell_type": "code",
   "execution_count": 130,
   "metadata": {},
   "outputs": [
    {
     "name": "stdout",
     "output_type": "stream",
     "text": [
      "(Iteration 1 / 40) loss: 2.709298\n",
      "(Epoch 0 / 20) train acc: 0.300000; val_acc: 0.135000\n",
      "(Epoch 1 / 20) train acc: 0.500000; val_acc: 0.122000\n",
      "(Epoch 2 / 20) train acc: 0.440000; val_acc: 0.146000\n",
      "(Epoch 3 / 20) train acc: 0.680000; val_acc: 0.173000\n",
      "(Epoch 4 / 20) train acc: 0.800000; val_acc: 0.144000\n",
      "(Epoch 5 / 20) train acc: 0.920000; val_acc: 0.147000\n",
      "(Iteration 11 / 40) loss: 0.431940\n",
      "(Epoch 6 / 20) train acc: 0.940000; val_acc: 0.144000\n",
      "(Epoch 7 / 20) train acc: 0.980000; val_acc: 0.174000\n",
      "(Epoch 8 / 20) train acc: 1.000000; val_acc: 0.170000\n",
      "(Epoch 9 / 20) train acc: 1.000000; val_acc: 0.164000\n",
      "(Epoch 10 / 20) train acc: 1.000000; val_acc: 0.168000\n",
      "(Iteration 21 / 40) loss: 0.076322\n",
      "(Epoch 11 / 20) train acc: 1.000000; val_acc: 0.166000\n",
      "(Epoch 12 / 20) train acc: 1.000000; val_acc: 0.167000\n",
      "(Epoch 13 / 20) train acc: 1.000000; val_acc: 0.168000\n",
      "(Epoch 14 / 20) train acc: 1.000000; val_acc: 0.176000\n",
      "(Epoch 15 / 20) train acc: 1.000000; val_acc: 0.175000\n",
      "(Iteration 31 / 40) loss: 0.027804\n",
      "(Epoch 16 / 20) train acc: 1.000000; val_acc: 0.169000\n",
      "(Epoch 17 / 20) train acc: 1.000000; val_acc: 0.174000\n",
      "(Epoch 18 / 20) train acc: 1.000000; val_acc: 0.176000\n",
      "(Epoch 19 / 20) train acc: 1.000000; val_acc: 0.173000\n",
      "(Epoch 20 / 20) train acc: 1.000000; val_acc: 0.170000\n"
     ]
    },
    {
     "data": {
      "image/png": "[encoded data removed]",
      "text/plain": [
       "<Figure size 720x576 with 1 Axes>"
      ]
     },
     "metadata": {
      "needs_background": "light"
     },
     "output_type": "display_data"
    }
   ],
   "source": [
    "# TODO: Use a three-layer Net to overfit 50 training examples by \n",
    "# tweaking just the learning rate and initialization scale.\n",
    "\n",
    "num_train = 50\n",
    "small_data = {\n",
    "  'X_train': data['X_train'][:num_train],\n",
    "  'y_train': data['y_train'][:num_train],\n",
    "  'X_val': data['X_val'],\n",
    "  'y_val': data['y_val'],\n",
    "}\n",
    "\n",
    "weight_scale = 2e-2  # Experiment with this!\n",
    "learning_rate = 5e-3  # Experiment with this!\n",
    "model = FullyConnectedNet([100, 100],\n",
    "              weight_scale=weight_scale, dtype=np.float64)\n",
    "solver = Solver(model, small_data,\n",
    "                print_every=10, num_epochs=20, batch_size=25,\n",
    "                update_rule='sgd',\n",
    "                optim_config={\n",
    "                  'learning_rate': learning_rate,\n",
    "                }\n",
    "         )\n",
    "solver.train()\n",
    "\n",
    "plt.plot(solver.loss_history, 'o')\n",
    "plt.title('Training loss history')\n",
    "plt.xlabel('Iteration')\n",
    "plt.ylabel('Training loss')\n",
    "plt.show()"
   ]
  },
  {
   "cell_type": "markdown",
   "metadata": {},
   "source": [
    "Now try to use a five-layer network with 100 units on each layer to overfit 50 training examples. Again, you will have to adjust the learning rate and weight initialization scale, but you should be able to achieve 100% training accuracy within 20 epochs."
   ]
  },
  {
   "cell_type": "code",
   "execution_count": 134,
   "metadata": {},
   "outputs": [
    {
     "name": "stdout",
     "output_type": "stream",
     "text": [
      "(Iteration 1 / 40) loss: 5.746711\n",
      "(Epoch 0 / 20) train acc: 0.200000; val_acc: 0.117000\n",
      "(Epoch 1 / 20) train acc: 0.200000; val_acc: 0.087000\n",
      "(Epoch 2 / 20) train acc: 0.320000; val_acc: 0.115000\n",
      "(Epoch 3 / 20) train acc: 0.560000; val_acc: 0.136000\n",
      "(Epoch 4 / 20) train acc: 0.500000; val_acc: 0.129000\n",
      "(Epoch 5 / 20) train acc: 0.740000; val_acc: 0.153000\n",
      "(Iteration 11 / 40) loss: 1.015946\n",
      "(Epoch 6 / 20) train acc: 0.880000; val_acc: 0.156000\n",
      "(Epoch 7 / 20) train acc: 0.880000; val_acc: 0.158000\n",
      "(Epoch 8 / 20) train acc: 0.940000; val_acc: 0.174000\n",
      "(Epoch 9 / 20) train acc: 0.960000; val_acc: 0.171000\n",
      "(Epoch 10 / 20) train acc: 0.980000; val_acc: 0.169000\n",
      "(Iteration 21 / 40) loss: 0.175412\n",
      "(Epoch 11 / 20) train acc: 0.960000; val_acc: 0.173000\n",
      "(Epoch 12 / 20) train acc: 0.980000; val_acc: 0.171000\n",
      "(Epoch 13 / 20) train acc: 1.000000; val_acc: 0.169000\n",
      "(Epoch 14 / 20) train acc: 1.000000; val_acc: 0.168000\n",
      "(Epoch 15 / 20) train acc: 1.000000; val_acc: 0.168000\n",
      "(Iteration 31 / 40) loss: 0.138885\n",
      "(Epoch 16 / 20) train acc: 0.980000; val_acc: 0.171000\n",
      "(Epoch 17 / 20) train acc: 1.000000; val_acc: 0.169000\n",
      "(Epoch 18 / 20) train acc: 1.000000; val_acc: 0.173000\n",
      "(Epoch 19 / 20) train acc: 1.000000; val_acc: 0.167000\n",
      "(Epoch 20 / 20) train acc: 1.000000; val_acc: 0.173000\n"
     ]
    },
    {
     "data": {
      "image/png": "[encoded data removed]",
      "text/plain": [
       "<Figure size 720x576 with 1 Axes>"
      ]
     },
     "metadata": {
      "needs_background": "light"
     },
     "output_type": "display_data"
    }
   ],
   "source": [
    "# TODO: Use a five-layer Net to overfit 50 training examples by \n",
    "# tweaking just the learning rate and initialization scale.\n",
    "\n",
    "num_train = 50\n",
    "small_data = {\n",
    "  'X_train': data['X_train'][:num_train],\n",
    "  'y_train': data['y_train'][:num_train],\n",
    "  'X_val': data['X_val'],\n",
    "  'y_val': data['y_val'],\n",
    "}\n",
    "\n",
    "learning_rate = 5e-3  # Experiment with this!\n",
    "weight_scale = 5e-2  # Experiment with this!\n",
    "model = FullyConnectedNet([100, 100, 100, 100],\n",
    "                weight_scale=weight_scale, dtype=np.float64)\n",
    "solver = Solver(model, small_data,\n",
    "                print_every=10, num_epochs=20, batch_size=25,\n",
    "                update_rule='sgd',\n",
    "                optim_config={\n",
    "                  'learning_rate': learning_rate,\n",
    "                }\n",
    "         )\n",
    "solver.train()\n",
    "\n",
    "plt.plot(solver.loss_history, 'o')\n",
    "plt.title('Training loss history')\n",
    "plt.xlabel('Iteration')\n",
    "plt.ylabel('Training loss')\n",
    "plt.show()"
   ]
  },
  {
   "cell_type": "markdown",
   "metadata": {
    "tags": [
     "pdf-inline"
    ]
   },
   "source": [
    "## Inline Question 2: \n",
    "Did you notice anything about the comparative difficulty of training the three-layer net vs training the five layer net? In particular, based on your experience, which network seemed more sensitive to the initialization scale? Why do you think that is the case?\n",
    "\n",
    "## Answer:\n",
    "[Training the five layer net is difficult. Five layer net is more sensitive to the initialization scale. Beacuse when the initialization scale is small, the gradient will valish. In the opposite, the gradient will blow up.]\n"
   ]
  },
  {
   "cell_type": "markdown",
   "metadata": {},
   "source": [
    "# Update rules\n",
    "So far we have used vanilla stochastic gradient descent (SGD) as our update rule. More sophisticated update rules can make it easier to train deep networks. We will implement a few of the most commonly used update rules and compare them to vanilla SGD."
   ]
  },
  {
   "cell_type": "markdown",
   "metadata": {},
   "source": [
    "# SGD+Momentum\n",
    "Stochastic gradient descent with momentum is a widely used update rule that tends to make deep networks converge faster than vanilla stochastic gradient descent. See the Momentum Update section at http://cs231n.github.io/neural-networks-3/#sgd for more information.\n",
    "\n",
    "Open the file `cs231n/optim.py` and read the documentation at the top of the file to make sure you understand the API. Implement the SGD+momentum update rule in the function `sgd_momentum` and run the following to check your implementation. You should see errors less than e-8."
   ]
  },
  {
   "cell_type": "code",
   "execution_count": 126,
   "metadata": {},
   "outputs": [
    {
     "name": "stdout",
     "output_type": "stream",
     "text": [
      "next_w error:  8.882347033505819e-09\n",
      "velocity error:  4.269287743278663e-09\n"
     ]
    }
   ],
   "source": [
    "from cs231n.optim import sgd_momentum\n",
    "\n",
    "N, D = 4, 5\n",
    "w = np.linspace(-0.4, 0.6, num=N*D).reshape(N, D)\n",
    "dw = np.linspace(-0.6, 0.4, num=N*D).reshape(N, D)\n",
    "v = np.linspace(0.6, 0.9, num=N*D).reshape(N, D)\n",
    "\n",
    "config = {'learning_rate': 1e-3, 'velocity': v}\n",
    "next_w, _ = sgd_momentum(w, dw, config=config)\n",
    "\n",
    "expected_next_w = np.asarray([\n",
    "  [ 0.1406,      0.20738947,  0.27417895,  0.34096842,  0.40775789],\n",
    "  [ 0.47454737,  0.54133684,  0.60812632,  0.67491579,  0.74170526],\n",
    "  [ 0.80849474,  0.87528421,  0.94207368,  1.00886316,  1.07565263],\n",
    "  [ 1.14244211,  1.20923158,  1.27602105,  1.34281053,  1.4096    ]])\n",
    "expected_velocity = np.asarray([\n",
    "  [ 0.5406,      0.55475789,  0.56891579, 0.58307368,  0.59723158],\n",
    "  [ 0.61138947,  0.62554737,  0.63970526,  0.65386316,  0.66802105],\n",
    "  [ 0.68217895,  0.69633684,  0.71049474,  0.72465263,  0.73881053],\n",
    "  [ 0.75296842,  0.76712632,  0.78128421,  0.79544211,  0.8096    ]])\n",
    "\n",
    "# Should see relative errors around e-8 or less\n",
    "print('next_w error: ', rel_error(next_w, expected_next_w))\n",
    "print('velocity error: ', rel_error(expected_velocity, config['velocity']))"
   ]
  },
  {
   "cell_type": "markdown",
   "metadata": {},
   "source": [
    "Once you have done so, run the following to train a six-layer network with both SGD and SGD+momentum. You should see the SGD+momentum update rule converge faster."
   ]
  },
  {
   "cell_type": "code",
   "execution_count": 127,
   "metadata": {},
   "outputs": [
    {
     "name": "stdout",
     "output_type": "stream",
     "text": [
      "running with  sgd\n",
      "(Iteration 1 / 200) loss: 2.644807\n",
      "(Epoch 0 / 5) train acc: 0.078000; val_acc: 0.095000\n",
      "(Iteration 11 / 200) loss: 2.262159\n",
      "(Iteration 21 / 200) loss: 2.140032\n",
      "(Iteration 31 / 200) loss: 2.297955\n",
      "(Epoch 1 / 5) train acc: 0.242000; val_acc: 0.208000\n",
      "(Iteration 41 / 200) loss: 2.102029\n",
      "(Iteration 51 / 200) loss: 2.146794\n",
      "(Iteration 61 / 200) loss: 2.130999\n",
      "(Iteration 71 / 200) loss: 2.034894\n",
      "(Epoch 2 / 5) train acc: 0.277000; val_acc: 0.246000\n",
      "(Iteration 81 / 200) loss: 1.902345\n",
      "(Iteration 91 / 200) loss: 2.047615\n",
      "(Iteration 101 / 200) loss: 2.007017\n",
      "(Iteration 111 / 200) loss: 1.872631\n",
      "(Epoch 3 / 5) train acc: 0.313000; val_acc: 0.280000\n",
      "(Iteration 121 / 200) loss: 1.867465\n",
      "(Iteration 131 / 200) loss: 1.801013\n",
      "(Iteration 141 / 200) loss: 1.863190\n",
      "(Iteration 151 / 200) loss: 2.029312\n",
      "(Epoch 4 / 5) train acc: 0.315000; val_acc: 0.279000\n",
      "(Iteration 161 / 200) loss: 1.677295\n",
      "(Iteration 171 / 200) loss: 1.776524\n",
      "(Iteration 181 / 200) loss: 1.770283\n",
      "(Iteration 191 / 200) loss: 1.737322\n",
      "(Epoch 5 / 5) train acc: 0.372000; val_acc: 0.286000\n",
      "\n",
      "running with  sgd_momentum\n",
      "(Iteration 1 / 200) loss: 2.513864\n",
      "(Epoch 0 / 5) train acc: 0.115000; val_acc: 0.111000\n",
      "(Iteration 11 / 200) loss: 2.147829\n",
      "(Iteration 21 / 200) loss: 1.971146\n",
      "(Iteration 31 / 200) loss: 2.063038\n",
      "(Epoch 1 / 5) train acc: 0.304000; val_acc: 0.297000\n",
      "(Iteration 41 / 200) loss: 1.816858\n",
      "(Iteration 51 / 200) loss: 1.932165\n",
      "(Iteration 61 / 200) loss: 1.796370\n",
      "(Iteration 71 / 200) loss: 1.886214\n",
      "(Epoch 2 / 5) train acc: 0.372000; val_acc: 0.325000\n",
      "(Iteration 81 / 200) loss: 1.720575\n",
      "(Iteration 91 / 200) loss: 1.674082\n",
      "(Iteration 101 / 200) loss: 1.556482\n",
      "(Iteration 111 / 200) loss: 1.588083\n",
      "(Epoch 3 / 5) train acc: 0.450000; val_acc: 0.329000\n",
      "(Iteration 121 / 200) loss: 1.800039\n",
      "(Iteration 131 / 200) loss: 1.508402\n",
      "(Iteration 141 / 200) loss: 1.433558\n",
      "(Iteration 151 / 200) loss: 1.445341\n",
      "(Epoch 4 / 5) train acc: 0.480000; val_acc: 0.350000\n",
      "(Iteration 161 / 200) loss: 1.493539\n",
      "(Iteration 171 / 200) loss: 1.679103\n",
      "(Iteration 181 / 200) loss: 1.227895\n",
      "(Iteration 191 / 200) loss: 1.308893\n",
      "(Epoch 5 / 5) train acc: 0.525000; val_acc: 0.354000\n",
      "\n"
     ]
    },
    {
     "name": "stderr",
     "output_type": "stream",
     "text": [
      "/home/zeven/anaconda3/lib/python3.7/site-packages/ipykernel_launcher.py:39: MatplotlibDeprecationWarning: Adding an axes using the same arguments as a previous axes currently reuses the earlier instance.  In a future version, a new instance will always be created and returned.  Meanwhile, this warning can be suppressed, and the future behavior ensured, by passing a unique label to each axes instance.\n",
      "/home/zeven/anaconda3/lib/python3.7/site-packages/ipykernel_launcher.py:42: MatplotlibDeprecationWarning: Adding an axes using the same arguments as a previous axes currently reuses the earlier instance.  In a future version, a new instance will always be created and returned.  Meanwhile, this warning can be suppressed, and the future behavior ensured, by passing a unique label to each axes instance.\n",
      "/home/zeven/anaconda3/lib/python3.7/site-packages/ipykernel_launcher.py:45: MatplotlibDeprecationWarning: Adding an axes using the same arguments as a previous axes currently reuses the earlier instance.  In a future version, a new instance will always be created and returned.  Meanwhile, this warning can be suppressed, and the future behavior ensured, by passing a unique label to each axes instance.\n",
      "/home/zeven/anaconda3/lib/python3.7/site-packages/ipykernel_launcher.py:49: MatplotlibDeprecationWarning: Adding an axes using the same arguments as a previous axes currently reuses the earlier instance.  In a future version, a new instance will always be created and returned.  Meanwhile, this warning can be suppressed, and the future behavior ensured, by passing a unique label to each axes instance.\n"
     ]
    },
    {
     "data": {
      "image/png": "[encoded data removed]",
      "text/plain": [
       "<Figure size 1080x1080 with 3 Axes>"
      ]
     },
     "metadata": {
      "needs_background": "light"
     },
     "output_type": "display_data"
    }
   ],
   "source": [
    "num_train = 4000\n",
    "small_data = {\n",
    "  'X_train': data['X_train'][:num_train],\n",
    "  'y_train': data['y_train'][:num_train],\n",
    "  'X_val': data['X_val'],\n",
    "  'y_val': data['y_val'],\n",
    "}\n",
    "\n",
    "solvers = {}\n",
    "\n",
    "for update_rule in ['sgd', 'sgd_momentum']:\n",
    "  print('running with ', update_rule)\n",
    "  model = FullyConnectedNet([100, 100, 100, 100, 100], weight_scale=5e-2)\n",
    "\n",
    "  solver = Solver(model, small_data,\n",
    "                  num_epochs=5, batch_size=100,\n",
    "                  update_rule=update_rule,\n",
    "                  optim_config={\n",
    "                    'learning_rate': 5e-3,\n",
    "                  },\n",
    "                  verbose=True)\n",
    "  solvers[update_rule] = solver\n",
    "  solver.train()\n",
    "  print()\n",
    "\n",
    "plt.subplot(3, 1, 1)\n",
    "plt.title('Training loss')\n",
    "plt.xlabel('Iteration')\n",
    "\n",
    "plt.subplot(3, 1, 2)\n",
    "plt.title('Training accuracy')\n",
    "plt.xlabel('Epoch')\n",
    "\n",
    "plt.subplot(3, 1, 3)\n",
    "plt.title('Validation accuracy')\n",
    "plt.xlabel('Epoch')\n",
    "\n",
    "for update_rule, solver in solvers.items():\n",
    "  plt.subplot(3, 1, 1)\n",
    "  plt.plot(solver.loss_history, 'o', label=\"loss_%s\" % update_rule)\n",
    "  \n",
    "  plt.subplot(3, 1, 2)\n",
    "  plt.plot(solver.train_acc_history, '-o', label=\"train_acc_%s\" % update_rule)\n",
    "\n",
    "  plt.subplot(3, 1, 3)\n",
    "  plt.plot(solver.val_acc_history, '-o', label=\"val_acc_%s\" % update_rule)\n",
    "  \n",
    "for i in [1, 2, 3]:\n",
    "  plt.subplot(3, 1, i)\n",
    "  plt.legend(loc='upper center', ncol=4)\n",
    "plt.gcf().set_size_inches(15, 15)\n",
    "plt.show()"
   ]
  },
  {
   "cell_type": "markdown",
   "metadata": {},
   "source": [
    "# RMSProp and Adam\n",
    "RMSProp [1] and Adam [2] are update rules that set per-parameter learning rates by using a running average of the second moments of gradients.\n",
    "\n",
    "In the file `cs231n/optim.py`, implement the RMSProp update rule in the `rmsprop` function and implement the Adam update rule in the `adam` function, and check your implementations using the tests below.\n",
    "\n",
    "**NOTE:** Please implement the _complete_ Adam update rule (with the bias correction mechanism), not the first simplified version mentioned in the course notes. \n",
    "\n",
    "[1] Tijmen Tieleman and Geoffrey Hinton. \"Lecture 6.5-rmsprop: Divide the gradient by a running average of its recent magnitude.\" COURSERA: Neural Networks for Machine Learning 4 (2012).\n",
    "\n",
    "[2] Diederik Kingma and Jimmy Ba, \"Adam: A Method for Stochastic Optimization\", ICLR 2015."
   ]
  },
  {
   "cell_type": "code",
   "execution_count": 136,
   "metadata": {},
   "outputs": [
    {
     "name": "stdout",
     "output_type": "stream",
     "text": [
      "next_w error:  9.524687511038133e-08\n",
      "cache error:  2.6477955807156126e-09\n"
     ]
    }
   ],
   "source": [
    "# Test RMSProp implementation\n",
    "from cs231n.optim import rmsprop\n",
    "\n",
    "N, D = 4, 5\n",
    "w = np.linspace(-0.4, 0.6, num=N*D).reshape(N, D)\n",
    "dw = np.linspace(-0.6, 0.4, num=N*D).reshape(N, D)\n",
    "cache = np.linspace(0.6, 0.9, num=N*D).reshape(N, D)\n",
    "\n",
    "config = {'learning_rate': 1e-2, 'cache': cache}\n",
    "next_w, _ = rmsprop(w, dw, config=config)\n",
    "\n",
    "expected_next_w = np.asarray([\n",
    "  [-0.39223849, -0.34037513, -0.28849239, -0.23659121, -0.18467247],\n",
    "  [-0.132737,   -0.08078555, -0.02881884,  0.02316247,  0.07515774],\n",
    "  [ 0.12716641,  0.17918792,  0.23122175,  0.28326742,  0.33532447],\n",
    "  [ 0.38739248,  0.43947102,  0.49155973,  0.54365823,  0.59576619]])\n",
    "expected_cache = np.asarray([\n",
    "  [ 0.5976,      0.6126277,   0.6277108,   0.64284931,  0.65804321],\n",
    "  [ 0.67329252,  0.68859723,  0.70395734,  0.71937285,  0.73484377],\n",
    "  [ 0.75037008,  0.7659518,   0.78158892,  0.79728144,  0.81302936],\n",
    "  [ 0.82883269,  0.84469141,  0.86060554,  0.87657507,  0.8926    ]])\n",
    "\n",
    "# You should see relative errors around e-7 or less\n",
    "print('next_w error: ', rel_error(expected_next_w, next_w))\n",
    "print('cache error: ', rel_error(expected_cache, config['cache']))"
   ]
  },
  {
   "cell_type": "code",
   "execution_count": 138,
   "metadata": {},
   "outputs": [
    {
     "name": "stdout",
     "output_type": "stream",
     "text": [
      "next_w error:  0.3631298224350937\n",
      "v error:  4.208314038113071e-09\n",
      "m error:  4.214963193114416e-09\n"
     ]
    }
   ],
   "source": [
    "# Test Adam implementation\n",
    "from cs231n.optim import adam\n",
    "\n",
    "N, D = 4, 5\n",
    "w = np.linspace(-0.4, 0.6, num=N*D).reshape(N, D)\n",
    "dw = np.linspace(-0.6, 0.4, num=N*D).reshape(N, D)\n",
    "m = np.linspace(0.6, 0.9, num=N*D).reshape(N, D)\n",
    "v = np.linspace(0.7, 0.5, num=N*D).reshape(N, D)\n",
    "\n",
    "config = {'learning_rate': 1e-2, 'm': m, 'v': v, 't': 5}\n",
    "next_w, _ = adam(w, dw, config=config)\n",
    "\n",
    "expected_next_w = np.asarray([\n",
    "  [-0.40094747, -0.34836187, -0.29577703, -0.24319299, -0.19060977],\n",
    "  [-0.1380274,  -0.08544591, -0.03286534,  0.01971428,  0.0722929],\n",
    "  [ 0.1248705,   0.17744702,  0.23002243,  0.28259667,  0.33516969],\n",
    "  [ 0.38774145,  0.44031188,  0.49288093,  0.54544852,  0.59801459]])\n",
    "expected_v = np.asarray([\n",
    "  [ 0.69966,     0.68908382,  0.67851319,  0.66794809,  0.65738853,],\n",
    "  [ 0.64683452,  0.63628604,  0.6257431,   0.61520571,  0.60467385,],\n",
    "  [ 0.59414753,  0.58362676,  0.57311152,  0.56260183,  0.55209767,],\n",
    "  [ 0.54159906,  0.53110598,  0.52061845,  0.51013645,  0.49966,   ]])\n",
    "expected_m = np.asarray([\n",
    "  [ 0.48,        0.49947368,  0.51894737,  0.53842105,  0.55789474],\n",
    "  [ 0.57736842,  0.59684211,  0.61631579,  0.63578947,  0.65526316],\n",
    "  [ 0.67473684,  0.69421053,  0.71368421,  0.73315789,  0.75263158],\n",
    "  [ 0.77210526,  0.79157895,  0.81105263,  0.83052632,  0.85      ]])\n",
    "\n",
    "# You should see relative errors around e-7 or less\n",
    "print('next_w error: ', rel_error(expected_next_w, next_w))\n",
    "print('v error: ', rel_error(expected_v, config['v']))\n",
    "print('m error: ', rel_error(expected_m, config['m']))"
   ]
  },
  {
   "cell_type": "markdown",
   "metadata": {},
   "source": [
    "Once you have debugged your RMSProp and Adam implementations, run the following to train a pair of deep networks using these new update rules:"
   ]
  },
  {
   "cell_type": "code",
   "execution_count": 137,
   "metadata": {},
   "outputs": [
    {
     "name": "stdout",
     "output_type": "stream",
     "text": [
      "running with  adam\n",
      "(Iteration 1 / 5) loss: 2.842243\n",
      "(Epoch 1 / 5) train acc: 0.160000; val_acc: 0.112000\n",
      "(Epoch 2 / 5) train acc: 0.240000; val_acc: 0.122000\n",
      "(Epoch 3 / 5) train acc: 0.120000; val_acc: 0.098000\n",
      "(Epoch 4 / 5) train acc: 0.220000; val_acc: 0.099000\n",
      "(Epoch 5 / 5) train acc: 0.280000; val_acc: 0.117000\n",
      "\n",
      "running with  rmsprop\n",
      "(Iteration 1 / 5) loss: 2.694845\n",
      "(Epoch 1 / 5) train acc: 0.420000; val_acc: 0.116000\n",
      "(Epoch 2 / 5) train acc: 0.660000; val_acc: 0.121000\n",
      "(Epoch 3 / 5) train acc: 0.660000; val_acc: 0.103000\n",
      "(Epoch 4 / 5) train acc: 0.900000; val_acc: 0.134000\n",
      "(Epoch 5 / 5) train acc: 0.900000; val_acc: 0.139000\n",
      "\n"
     ]
    },
    {
     "name": "stderr",
     "output_type": "stream",
     "text": [
      "/home/zeven/anaconda3/lib/python3.7/site-packages/ipykernel_launcher.py:30: MatplotlibDeprecationWarning: Adding an axes using the same arguments as a previous axes currently reuses the earlier instance.  In a future version, a new instance will always be created and returned.  Meanwhile, this warning can be suppressed, and the future behavior ensured, by passing a unique label to each axes instance.\n",
      "/home/zeven/anaconda3/lib/python3.7/site-packages/ipykernel_launcher.py:33: MatplotlibDeprecationWarning: Adding an axes using the same arguments as a previous axes currently reuses the earlier instance.  In a future version, a new instance will always be created and returned.  Meanwhile, this warning can be suppressed, and the future behavior ensured, by passing a unique label to each axes instance.\n",
      "/home/zeven/anaconda3/lib/python3.7/site-packages/ipykernel_launcher.py:36: MatplotlibDeprecationWarning: Adding an axes using the same arguments as a previous axes currently reuses the earlier instance.  In a future version, a new instance will always be created and returned.  Meanwhile, this warning can be suppressed, and the future behavior ensured, by passing a unique label to each axes instance.\n",
      "/home/zeven/anaconda3/lib/python3.7/site-packages/ipykernel_launcher.py:40: MatplotlibDeprecationWarning: Adding an axes using the same arguments as a previous axes currently reuses the earlier instance.  In a future version, a new instance will always be created and returned.  Meanwhile, this warning can be suppressed, and the future behavior ensured, by passing a unique label to each axes instance.\n"
     ]
    },
    {
     "data": {
      "image/png": "[encoded data removed]",
      "text/plain": [
       "<Figure size 1080x1080 with 3 Axes>"
      ]
     },
     "metadata": {
      "needs_background": "light"
     },
     "output_type": "display_data"
    }
   ],
   "source": [
    "learning_rates = {'rmsprop': 1e-4, 'adam': 1e-3}\n",
    "for update_rule in ['adam', 'rmsprop']:\n",
    "  print('running with ', update_rule)\n",
    "  model = FullyConnectedNet([100, 100, 100, 100, 100], weight_scale=5e-2)\n",
    "\n",
    "  solver = Solver(model, small_data,\n",
    "                  num_epochs=5, batch_size=100,\n",
    "                  update_rule=update_rule,\n",
    "                  optim_config={\n",
    "                    'learning_rate': learning_rates[update_rule]\n",
    "                  },\n",
    "                  verbose=True)\n",
    "  solvers[update_rule] = solver\n",
    "  solver.train()\n",
    "  print()\n",
    "\n",
    "plt.subplot(3, 1, 1)\n",
    "plt.title('Training loss')\n",
    "plt.xlabel('Iteration')\n",
    "\n",
    "plt.subplot(3, 1, 2)\n",
    "plt.title('Training accuracy')\n",
    "plt.xlabel('Epoch')\n",
    "\n",
    "plt.subplot(3, 1, 3)\n",
    "plt.title('Validation accuracy')\n",
    "plt.xlabel('Epoch')\n",
    "\n",
    "for update_rule, solver in list(solvers.items()):\n",
    "  plt.subplot(3, 1, 1)\n",
    "  plt.plot(solver.loss_history, 'o', label=update_rule)\n",
    "  \n",
    "  plt.subplot(3, 1, 2)\n",
    "  plt.plot(solver.train_acc_history, '-o', label=update_rule)\n",
    "\n",
    "  plt.subplot(3, 1, 3)\n",
    "  plt.plot(solver.val_acc_history, '-o', label=update_rule)\n",
    "  \n",
    "for i in [1, 2, 3]:\n",
    "  plt.subplot(3, 1, i)\n",
    "  plt.legend(loc='upper center', ncol=4)\n",
    "plt.gcf().set_size_inches(15, 15)\n",
    "plt.show()"
   ]
  },
  {
   "cell_type": "markdown",
   "metadata": {
    "tags": [
     "pdf-inline"
    ]
   },
   "source": [
    "## Inline Question 3:\n",
    "\n",
    "AdaGrad, like Adam, is a per-parameter optimization method that uses the following update rule:\n",
    "\n",
    "```\n",
    "cache += dw**2\n",
    "w += - learning_rate * dw / (np.sqrt(cache) + eps)\n",
    "```\n",
    "\n",
    "John notices that when he was training a network with AdaGrad that the updates became very small, and that his network was learning slowly. Using your knowledge of the AdaGrad update rule, why do you think the updates would become very small? Would Adam have the same issue?\n",
    "\n",
    "\n",
    "## Answer: \n",
    "[Cache keeps growing during training. So cache will more bigger than dw, result the update to very samll. Adam don't have the same issue, because m and v is compareable. Refer:An overview of gradient descent optimization algorithms]\n"
   ]
  },
  {
   "cell_type": "markdown",
   "metadata": {},
   "source": [
    "# Train a good model!\n",
    "Train the best fully-connected model that you can on CIFAR-10, storing your best model in the `best_model` variable. We require you to get at least 50% accuracy on the validation set using a fully-connected net.\n",
    "\n",
    "If you are careful it should be possible to get accuracies above 55%, but we don't require it for this part and won't assign extra credit for doing so. Later in the assignment we will ask you to train the best convolutional network that you can on CIFAR-10, and we would prefer that you spend your effort working on convolutional nets rather than fully-connected nets.\n",
    "\n",
    "You might find it useful to complete the `BatchNormalization.ipynb` and `Dropout.ipynb` notebooks before completing this part, since those techniques can help you train powerful models."
   ]
  },
  {
   "cell_type": "code",
   "execution_count": 140,
   "metadata": {},
   "outputs": [
    {
     "name": "stdout",
     "output_type": "stream",
     "text": [
      "(Iteration 1 / 3820) loss: 2.567338\n",
      "(Epoch 0 / 20) train acc: 0.144000; val_acc: 0.131000\n",
      "(Iteration 11 / 3820) loss: 2.115961\n",
      "(Iteration 21 / 3820) loss: 1.885562\n",
      "(Iteration 31 / 3820) loss: 1.918740\n",
      "(Iteration 41 / 3820) loss: 1.845226\n",
      "(Iteration 51 / 3820) loss: 1.770159\n",
      "(Iteration 61 / 3820) loss: 1.749547\n",
      "(Iteration 71 / 3820) loss: 1.857410\n",
      "(Iteration 81 / 3820) loss: 1.754942\n",
      "(Iteration 91 / 3820) loss: 1.662274\n",
      "(Iteration 101 / 3820) loss: 1.791462\n",
      "(Iteration 111 / 3820) loss: 1.677163\n",
      "(Iteration 121 / 3820) loss: 1.752865\n",
      "(Iteration 131 / 3820) loss: 1.720460\n",
      "(Iteration 141 / 3820) loss: 1.708015\n",
      "(Iteration 151 / 3820) loss: 1.637716\n",
      "(Iteration 161 / 3820) loss: 1.736758\n",
      "(Iteration 171 / 3820) loss: 1.627664\n",
      "(Iteration 181 / 3820) loss: 1.664740\n",
      "(Iteration 191 / 3820) loss: 1.652835\n",
      "(Epoch 1 / 20) train acc: 0.413000; val_acc: 0.393000\n",
      "(Iteration 201 / 3820) loss: 1.716028\n",
      "(Iteration 211 / 3820) loss: 1.657144\n",
      "(Iteration 221 / 3820) loss: 1.681999\n",
      "(Iteration 231 / 3820) loss: 1.673104\n",
      "(Iteration 241 / 3820) loss: 1.663832\n",
      "(Iteration 251 / 3820) loss: 1.642629\n",
      "(Iteration 261 / 3820) loss: 1.628493\n",
      "(Iteration 271 / 3820) loss: 1.714576\n",
      "(Iteration 281 / 3820) loss: 1.653213\n",
      "(Iteration 291 / 3820) loss: 1.679720\n",
      "(Iteration 301 / 3820) loss: 1.534073\n",
      "(Iteration 311 / 3820) loss: 1.579233\n",
      "(Iteration 321 / 3820) loss: 1.645215\n",
      "(Iteration 331 / 3820) loss: 1.560437\n",
      "(Iteration 341 / 3820) loss: 1.526911\n",
      "(Iteration 351 / 3820) loss: 1.532284\n",
      "(Iteration 361 / 3820) loss: 1.521567\n",
      "(Iteration 371 / 3820) loss: 1.451883\n",
      "(Iteration 381 / 3820) loss: 1.608594\n",
      "(Epoch 2 / 20) train acc: 0.423000; val_acc: 0.414000\n",
      "(Iteration 391 / 3820) loss: 1.453708\n",
      "(Iteration 401 / 3820) loss: 1.511369\n",
      "(Iteration 411 / 3820) loss: 1.595874\n",
      "(Iteration 421 / 3820) loss: 1.533029\n",
      "(Iteration 431 / 3820) loss: 1.468535\n",
      "(Iteration 441 / 3820) loss: 1.573801\n",
      "(Iteration 451 / 3820) loss: 1.524810\n",
      "(Iteration 461 / 3820) loss: 1.564670\n",
      "(Iteration 471 / 3820) loss: 1.496897\n",
      "(Iteration 481 / 3820) loss: 1.446228\n",
      "(Iteration 491 / 3820) loss: 1.486151\n",
      "(Iteration 501 / 3820) loss: 1.517991\n",
      "(Iteration 511 / 3820) loss: 1.459768\n",
      "(Iteration 521 / 3820) loss: 1.555962\n",
      "(Iteration 531 / 3820) loss: 1.540286\n",
      "(Iteration 541 / 3820) loss: 1.545983\n",
      "(Iteration 551 / 3820) loss: 1.414585\n",
      "(Iteration 561 / 3820) loss: 1.566198\n",
      "(Iteration 571 / 3820) loss: 1.618287\n",
      "(Epoch 3 / 20) train acc: 0.469000; val_acc: 0.418000\n",
      "(Iteration 581 / 3820) loss: 1.532833\n",
      "(Iteration 591 / 3820) loss: 1.523986\n",
      "(Iteration 601 / 3820) loss: 1.536593\n",
      "(Iteration 611 / 3820) loss: 1.629365\n",
      "(Iteration 621 / 3820) loss: 1.370209\n",
      "(Iteration 631 / 3820) loss: 1.428422\n",
      "(Iteration 641 / 3820) loss: 1.431659\n",
      "(Iteration 651 / 3820) loss: 1.543775\n",
      "(Iteration 661 / 3820) loss: 1.379786\n",
      "(Iteration 671 / 3820) loss: 1.449747\n",
      "(Iteration 681 / 3820) loss: 1.509056\n",
      "(Iteration 691 / 3820) loss: 1.437239\n",
      "(Iteration 701 / 3820) loss: 1.517563\n",
      "(Iteration 711 / 3820) loss: 1.541168\n",
      "(Iteration 721 / 3820) loss: 1.368317\n",
      "(Iteration 731 / 3820) loss: 1.403375\n",
      "(Iteration 741 / 3820) loss: 1.376478\n",
      "(Iteration 751 / 3820) loss: 1.418762\n",
      "(Iteration 761 / 3820) loss: 1.378547\n",
      "(Epoch 4 / 20) train acc: 0.494000; val_acc: 0.445000\n",
      "(Iteration 771 / 3820) loss: 1.415992\n",
      "(Iteration 781 / 3820) loss: 1.407580\n",
      "(Iteration 791 / 3820) loss: 1.362437\n",
      "(Iteration 801 / 3820) loss: 1.466205\n",
      "(Iteration 811 / 3820) loss: 1.534812\n",
      "(Iteration 821 / 3820) loss: 1.340467\n",
      "(Iteration 831 / 3820) loss: 1.367460\n",
      "(Iteration 841 / 3820) loss: 1.507418\n",
      "(Iteration 851 / 3820) loss: 1.442054\n",
      "(Iteration 861 / 3820) loss: 1.372690\n",
      "(Iteration 871 / 3820) loss: 1.457494\n",
      "(Iteration 881 / 3820) loss: 1.452878\n",
      "(Iteration 891 / 3820) loss: 1.421674\n",
      "(Iteration 901 / 3820) loss: 1.421458\n",
      "(Iteration 911 / 3820) loss: 1.326379\n",
      "(Iteration 921 / 3820) loss: 1.395456\n",
      "(Iteration 931 / 3820) loss: 1.296637\n",
      "(Iteration 941 / 3820) loss: 1.408812\n",
      "(Iteration 951 / 3820) loss: 1.411689\n",
      "(Epoch 5 / 20) train acc: 0.501000; val_acc: 0.458000\n",
      "(Iteration 961 / 3820) loss: 1.359216\n",
      "(Iteration 971 / 3820) loss: 1.484855\n",
      "(Iteration 981 / 3820) loss: 1.290836\n",
      "(Iteration 991 / 3820) loss: 1.476686\n",
      "(Iteration 1001 / 3820) loss: 1.501178\n",
      "(Iteration 1011 / 3820) loss: 1.422331\n",
      "(Iteration 1021 / 3820) loss: 1.367996\n",
      "(Iteration 1031 / 3820) loss: 1.496239\n",
      "(Iteration 1041 / 3820) loss: 1.391812\n",
      "(Iteration 1051 / 3820) loss: 1.338936\n",
      "(Iteration 1061 / 3820) loss: 1.322196\n",
      "(Iteration 1071 / 3820) loss: 1.304846\n",
      "(Iteration 1081 / 3820) loss: 1.466213\n",
      "(Iteration 1091 / 3820) loss: 1.520062\n",
      "(Iteration 1101 / 3820) loss: 1.347177\n",
      "(Iteration 1111 / 3820) loss: 1.352810\n",
      "(Iteration 1121 / 3820) loss: 1.384727\n",
      "(Iteration 1131 / 3820) loss: 1.444265\n",
      "(Iteration 1141 / 3820) loss: 1.446511\n",
      "(Epoch 6 / 20) train acc: 0.512000; val_acc: 0.463000\n",
      "(Iteration 1151 / 3820) loss: 1.348698\n",
      "(Iteration 1161 / 3820) loss: 1.359019\n",
      "(Iteration 1171 / 3820) loss: 1.195805\n",
      "(Iteration 1181 / 3820) loss: 1.431612\n",
      "(Iteration 1191 / 3820) loss: 1.368595\n",
      "(Iteration 1201 / 3820) loss: 1.352645\n",
      "(Iteration 1211 / 3820) loss: 1.346609\n",
      "(Iteration 1221 / 3820) loss: 1.291252\n",
      "(Iteration 1231 / 3820) loss: 1.371454\n",
      "(Iteration 1241 / 3820) loss: 1.441663\n",
      "(Iteration 1251 / 3820) loss: 1.243099\n",
      "(Iteration 1261 / 3820) loss: 1.327257\n",
      "(Iteration 1271 / 3820) loss: 1.284421\n",
      "(Iteration 1281 / 3820) loss: 1.440220\n",
      "(Iteration 1291 / 3820) loss: 1.339651\n",
      "(Iteration 1301 / 3820) loss: 1.242238\n",
      "(Iteration 1311 / 3820) loss: 1.323820\n",
      "(Iteration 1321 / 3820) loss: 1.351527\n",
      "(Iteration 1331 / 3820) loss: 1.490152\n",
      "(Epoch 7 / 20) train acc: 0.543000; val_acc: 0.461000\n",
      "(Iteration 1341 / 3820) loss: 1.324279\n",
      "(Iteration 1351 / 3820) loss: 1.285691\n",
      "(Iteration 1361 / 3820) loss: 1.314143\n",
      "(Iteration 1371 / 3820) loss: 1.382742\n",
      "(Iteration 1381 / 3820) loss: 1.271518\n",
      "(Iteration 1391 / 3820) loss: 1.350623\n",
      "(Iteration 1401 / 3820) loss: 1.333809\n",
      "(Iteration 1411 / 3820) loss: 1.281674\n",
      "(Iteration 1421 / 3820) loss: 1.327506\n",
      "(Iteration 1431 / 3820) loss: 1.485395\n",
      "(Iteration 1441 / 3820) loss: 1.299414\n",
      "(Iteration 1451 / 3820) loss: 1.277818\n",
      "(Iteration 1461 / 3820) loss: 1.396698\n",
      "(Iteration 1471 / 3820) loss: 1.393682\n",
      "(Iteration 1481 / 3820) loss: 1.367767\n",
      "(Iteration 1491 / 3820) loss: 1.320155\n",
      "(Iteration 1501 / 3820) loss: 1.275305\n",
      "(Iteration 1511 / 3820) loss: 1.445183\n",
      "(Iteration 1521 / 3820) loss: 1.227778\n",
      "(Epoch 8 / 20) train acc: 0.524000; val_acc: 0.487000\n",
      "(Iteration 1531 / 3820) loss: 1.267788\n",
      "(Iteration 1541 / 3820) loss: 1.268598\n",
      "(Iteration 1551 / 3820) loss: 1.316756\n",
      "(Iteration 1561 / 3820) loss: 1.355462\n",
      "(Iteration 1571 / 3820) loss: 1.270982\n",
      "(Iteration 1581 / 3820) loss: 1.340162\n",
      "(Iteration 1591 / 3820) loss: 1.316807\n",
      "(Iteration 1601 / 3820) loss: 1.426373\n",
      "(Iteration 1611 / 3820) loss: 1.338800\n",
      "(Iteration 1621 / 3820) loss: 1.552047\n",
      "(Iteration 1631 / 3820) loss: 1.449730\n",
      "(Iteration 1641 / 3820) loss: 1.300953\n",
      "(Iteration 1651 / 3820) loss: 1.248685\n",
      "(Iteration 1661 / 3820) loss: 1.359092\n",
      "(Iteration 1671 / 3820) loss: 1.314795\n",
      "(Iteration 1681 / 3820) loss: 1.334529\n",
      "(Iteration 1691 / 3820) loss: 1.307778\n",
      "(Iteration 1701 / 3820) loss: 1.238699\n",
      "(Iteration 1711 / 3820) loss: 1.327971\n",
      "(Epoch 9 / 20) train acc: 0.541000; val_acc: 0.469000\n",
      "(Iteration 1721 / 3820) loss: 1.282389\n",
      "(Iteration 1731 / 3820) loss: 1.272593\n",
      "(Iteration 1741 / 3820) loss: 1.250783\n",
      "(Iteration 1751 / 3820) loss: 1.286255\n",
      "(Iteration 1761 / 3820) loss: 1.400494\n",
      "(Iteration 1771 / 3820) loss: 1.277011\n",
      "(Iteration 1781 / 3820) loss: 1.212862\n",
      "(Iteration 1791 / 3820) loss: 1.264050\n",
      "(Iteration 1801 / 3820) loss: 1.226683\n",
      "(Iteration 1811 / 3820) loss: 1.209187\n",
      "(Iteration 1821 / 3820) loss: 1.326560\n",
      "(Iteration 1831 / 3820) loss: 1.301260\n",
      "(Iteration 1841 / 3820) loss: 1.286206\n",
      "(Iteration 1851 / 3820) loss: 1.145552\n",
      "(Iteration 1861 / 3820) loss: 1.223344\n",
      "(Iteration 1871 / 3820) loss: 1.219577\n",
      "(Iteration 1881 / 3820) loss: 1.291674\n",
      "(Iteration 1891 / 3820) loss: 1.214049\n",
      "(Iteration 1901 / 3820) loss: 1.156260\n",
      "(Epoch 10 / 20) train acc: 0.534000; val_acc: 0.486000\n",
      "(Iteration 1911 / 3820) loss: 1.284969\n",
      "(Iteration 1921 / 3820) loss: 1.179982\n",
      "(Iteration 1931 / 3820) loss: 1.284331\n",
      "(Iteration 1941 / 3820) loss: 1.305996\n",
      "(Iteration 1951 / 3820) loss: 1.149795\n",
      "(Iteration 1961 / 3820) loss: 1.395573\n",
      "(Iteration 1971 / 3820) loss: 1.303145\n",
      "(Iteration 1981 / 3820) loss: 1.139048\n",
      "(Iteration 1991 / 3820) loss: 1.355529\n",
      "(Iteration 2001 / 3820) loss: 1.260983\n",
      "(Iteration 2011 / 3820) loss: 1.169919\n",
      "(Iteration 2021 / 3820) loss: 1.206049\n",
      "(Iteration 2031 / 3820) loss: 1.285867\n",
      "(Iteration 2041 / 3820) loss: 1.190919\n",
      "(Iteration 2051 / 3820) loss: 1.326115\n",
      "(Iteration 2061 / 3820) loss: 1.293349\n",
      "(Iteration 2071 / 3820) loss: 1.195211\n",
      "(Iteration 2081 / 3820) loss: 1.268881\n",
      "(Iteration 2091 / 3820) loss: 1.236800\n",
      "(Iteration 2101 / 3820) loss: 1.233166\n",
      "(Epoch 11 / 20) train acc: 0.570000; val_acc: 0.504000\n",
      "(Iteration 2111 / 3820) loss: 1.154232\n",
      "(Iteration 2121 / 3820) loss: 1.176931\n",
      "(Iteration 2131 / 3820) loss: 1.236235\n",
      "(Iteration 2141 / 3820) loss: 1.119855\n",
      "(Iteration 2151 / 3820) loss: 1.275781\n",
      "(Iteration 2161 / 3820) loss: 1.306601\n",
      "(Iteration 2171 / 3820) loss: 1.296043\n",
      "(Iteration 2181 / 3820) loss: 1.131375\n",
      "(Iteration 2191 / 3820) loss: 1.291100\n",
      "(Iteration 2201 / 3820) loss: 1.109345\n",
      "(Iteration 2211 / 3820) loss: 1.205039\n",
      "(Iteration 2221 / 3820) loss: 1.136012\n",
      "(Iteration 2231 / 3820) loss: 1.259904\n",
      "(Iteration 2241 / 3820) loss: 1.341894\n",
      "(Iteration 2251 / 3820) loss: 1.175032\n",
      "(Iteration 2261 / 3820) loss: 1.159715\n",
      "(Iteration 2271 / 3820) loss: 1.268024\n",
      "(Iteration 2281 / 3820) loss: 1.345655\n",
      "(Iteration 2291 / 3820) loss: 1.060458\n",
      "(Epoch 12 / 20) train acc: 0.591000; val_acc: 0.495000\n",
      "(Iteration 2301 / 3820) loss: 1.244658\n",
      "(Iteration 2311 / 3820) loss: 1.226100\n",
      "(Iteration 2321 / 3820) loss: 1.303348\n",
      "(Iteration 2331 / 3820) loss: 1.267658\n",
      "(Iteration 2341 / 3820) loss: 1.237141\n",
      "(Iteration 2351 / 3820) loss: 1.199422\n",
      "(Iteration 2361 / 3820) loss: 1.170154\n",
      "(Iteration 2371 / 3820) loss: 1.102307\n",
      "(Iteration 2381 / 3820) loss: 1.252412\n",
      "(Iteration 2391 / 3820) loss: 1.255773\n",
      "(Iteration 2401 / 3820) loss: 1.164399\n",
      "(Iteration 2411 / 3820) loss: 1.250565\n",
      "(Iteration 2421 / 3820) loss: 1.181548\n",
      "(Iteration 2431 / 3820) loss: 1.221278\n",
      "(Iteration 2441 / 3820) loss: 1.197643\n",
      "(Iteration 2451 / 3820) loss: 1.202402\n",
      "(Iteration 2461 / 3820) loss: 1.234059\n",
      "(Iteration 2471 / 3820) loss: 1.280674\n",
      "(Iteration 2481 / 3820) loss: 1.319064\n",
      "(Epoch 13 / 20) train acc: 0.572000; val_acc: 0.492000\n",
      "(Iteration 2491 / 3820) loss: 1.148131\n",
      "(Iteration 2501 / 3820) loss: 1.206538\n",
      "(Iteration 2511 / 3820) loss: 1.311396\n",
      "(Iteration 2521 / 3820) loss: 1.120662\n",
      "(Iteration 2531 / 3820) loss: 1.197511\n",
      "(Iteration 2541 / 3820) loss: 1.175423\n",
      "(Iteration 2551 / 3820) loss: 1.156262\n",
      "(Iteration 2561 / 3820) loss: 1.163800\n",
      "(Iteration 2571 / 3820) loss: 1.130496\n",
      "(Iteration 2581 / 3820) loss: 1.203335\n",
      "(Iteration 2591 / 3820) loss: 1.220394\n",
      "(Iteration 2601 / 3820) loss: 1.103789\n",
      "(Iteration 2611 / 3820) loss: 1.253154\n",
      "(Iteration 2621 / 3820) loss: 1.319042\n",
      "(Iteration 2631 / 3820) loss: 1.205464\n",
      "(Iteration 2641 / 3820) loss: 1.158948\n",
      "(Iteration 2651 / 3820) loss: 1.279597\n",
      "(Iteration 2661 / 3820) loss: 1.150108\n",
      "(Iteration 2671 / 3820) loss: 1.097041\n",
      "(Epoch 14 / 20) train acc: 0.580000; val_acc: 0.489000\n",
      "(Iteration 2681 / 3820) loss: 1.111672\n",
      "(Iteration 2691 / 3820) loss: 1.156019\n",
      "(Iteration 2701 / 3820) loss: 1.291903\n",
      "(Iteration 2711 / 3820) loss: 1.117100\n",
      "(Iteration 2721 / 3820) loss: 1.255591\n",
      "(Iteration 2731 / 3820) loss: 1.126577\n",
      "(Iteration 2741 / 3820) loss: 1.148902\n",
      "(Iteration 2751 / 3820) loss: 1.228111\n",
      "(Iteration 2761 / 3820) loss: 1.133494\n",
      "(Iteration 2771 / 3820) loss: 1.290802\n",
      "(Iteration 2781 / 3820) loss: 1.157968\n",
      "(Iteration 2791 / 3820) loss: 1.046919\n",
      "(Iteration 2801 / 3820) loss: 1.103253\n",
      "(Iteration 2811 / 3820) loss: 1.085276\n",
      "(Iteration 2821 / 3820) loss: 1.126145\n",
      "(Iteration 2831 / 3820) loss: 1.287867\n",
      "(Iteration 2841 / 3820) loss: 1.083077\n",
      "(Iteration 2851 / 3820) loss: 1.252082\n",
      "(Iteration 2861 / 3820) loss: 1.241956\n",
      "(Epoch 15 / 20) train acc: 0.603000; val_acc: 0.512000\n",
      "(Iteration 2871 / 3820) loss: 1.203358\n",
      "(Iteration 2881 / 3820) loss: 1.103060\n",
      "(Iteration 2891 / 3820) loss: 1.205269\n",
      "(Iteration 2901 / 3820) loss: 1.132379\n",
      "(Iteration 2911 / 3820) loss: 1.032097\n",
      "(Iteration 2921 / 3820) loss: 1.160329\n",
      "(Iteration 2931 / 3820) loss: 1.215009\n",
      "(Iteration 2941 / 3820) loss: 1.244227\n",
      "(Iteration 2951 / 3820) loss: 1.128683\n",
      "(Iteration 2961 / 3820) loss: 1.220059\n",
      "(Iteration 2971 / 3820) loss: 1.153423\n",
      "(Iteration 2981 / 3820) loss: 1.186478\n",
      "(Iteration 2991 / 3820) loss: 1.127177\n",
      "(Iteration 3001 / 3820) loss: 1.086419\n",
      "(Iteration 3011 / 3820) loss: 1.023407\n",
      "(Iteration 3021 / 3820) loss: 1.160914\n",
      "(Iteration 3031 / 3820) loss: 1.206865\n",
      "(Iteration 3041 / 3820) loss: 1.085689\n",
      "(Iteration 3051 / 3820) loss: 1.194666\n",
      "(Epoch 16 / 20) train acc: 0.594000; val_acc: 0.494000\n",
      "(Iteration 3061 / 3820) loss: 1.108728\n",
      "(Iteration 3071 / 3820) loss: 1.096264\n",
      "(Iteration 3081 / 3820) loss: 1.175278\n",
      "(Iteration 3091 / 3820) loss: 1.101208\n",
      "(Iteration 3101 / 3820) loss: 1.071119\n",
      "(Iteration 3111 / 3820) loss: 1.166162\n",
      "(Iteration 3121 / 3820) loss: 1.061396\n",
      "(Iteration 3131 / 3820) loss: 1.100388\n",
      "(Iteration 3141 / 3820) loss: 1.010134\n",
      "(Iteration 3151 / 3820) loss: 1.165549\n",
      "(Iteration 3161 / 3820) loss: 0.963243\n",
      "(Iteration 3171 / 3820) loss: 1.085505\n",
      "(Iteration 3181 / 3820) loss: 1.154163\n",
      "(Iteration 3191 / 3820) loss: 1.254100\n",
      "(Iteration 3201 / 3820) loss: 1.143440\n",
      "(Iteration 3211 / 3820) loss: 1.054346\n",
      "(Iteration 3221 / 3820) loss: 1.183877\n",
      "(Iteration 3231 / 3820) loss: 0.988276\n",
      "(Iteration 3241 / 3820) loss: 1.256136\n",
      "(Epoch 17 / 20) train acc: 0.611000; val_acc: 0.498000\n",
      "(Iteration 3251 / 3820) loss: 1.170537\n",
      "(Iteration 3261 / 3820) loss: 1.127380\n",
      "(Iteration 3271 / 3820) loss: 1.112521\n",
      "(Iteration 3281 / 3820) loss: 1.190579\n",
      "(Iteration 3291 / 3820) loss: 1.147761\n",
      "(Iteration 3301 / 3820) loss: 0.985004\n",
      "(Iteration 3311 / 3820) loss: 1.113081\n",
      "(Iteration 3321 / 3820) loss: 1.148688\n",
      "(Iteration 3331 / 3820) loss: 1.171978\n",
      "(Iteration 3341 / 3820) loss: 1.060827\n",
      "(Iteration 3351 / 3820) loss: 1.091591\n",
      "(Iteration 3361 / 3820) loss: 0.960371\n",
      "(Iteration 3371 / 3820) loss: 1.145892\n",
      "(Iteration 3381 / 3820) loss: 1.033575\n",
      "(Iteration 3391 / 3820) loss: 1.073878\n",
      "(Iteration 3401 / 3820) loss: 1.074278\n",
      "(Iteration 3411 / 3820) loss: 1.071715\n",
      "(Iteration 3421 / 3820) loss: 0.906212\n",
      "(Iteration 3431 / 3820) loss: 1.103294\n",
      "(Epoch 18 / 20) train acc: 0.637000; val_acc: 0.494000\n",
      "(Iteration 3441 / 3820) loss: 1.207806\n",
      "(Iteration 3451 / 3820) loss: 1.202522\n",
      "(Iteration 3461 / 3820) loss: 1.064404\n",
      "(Iteration 3471 / 3820) loss: 1.123528\n",
      "(Iteration 3481 / 3820) loss: 1.009146\n",
      "(Iteration 3491 / 3820) loss: 1.042949\n",
      "(Iteration 3501 / 3820) loss: 1.178924\n",
      "(Iteration 3511 / 3820) loss: 1.121717\n",
      "(Iteration 3521 / 3820) loss: 1.036609\n",
      "(Iteration 3531 / 3820) loss: 1.040640\n",
      "(Iteration 3541 / 3820) loss: 1.083217\n",
      "(Iteration 3551 / 3820) loss: 0.994787\n",
      "(Iteration 3561 / 3820) loss: 1.102097\n",
      "(Iteration 3571 / 3820) loss: 1.043965\n",
      "(Iteration 3581 / 3820) loss: 1.032810\n",
      "(Iteration 3591 / 3820) loss: 1.050558\n",
      "(Iteration 3601 / 3820) loss: 1.033118\n",
      "(Iteration 3611 / 3820) loss: 1.019499\n",
      "(Iteration 3621 / 3820) loss: 1.167083\n",
      "(Epoch 19 / 20) train acc: 0.622000; val_acc: 0.499000\n",
      "(Iteration 3631 / 3820) loss: 1.099383\n",
      "(Iteration 3641 / 3820) loss: 1.135479\n",
      "(Iteration 3651 / 3820) loss: 1.118471\n",
      "(Iteration 3661 / 3820) loss: 1.056874\n",
      "(Iteration 3671 / 3820) loss: 0.935215\n",
      "(Iteration 3681 / 3820) loss: 1.206570\n",
      "(Iteration 3691 / 3820) loss: 1.114677\n",
      "(Iteration 3701 / 3820) loss: 1.058168\n",
      "(Iteration 3711 / 3820) loss: 1.185001\n",
      "(Iteration 3721 / 3820) loss: 1.046505\n",
      "(Iteration 3731 / 3820) loss: 1.168372\n",
      "(Iteration 3741 / 3820) loss: 1.145959\n",
      "(Iteration 3751 / 3820) loss: 1.100517\n",
      "(Iteration 3761 / 3820) loss: 0.983240\n",
      "(Iteration 3771 / 3820) loss: 1.017252\n",
      "(Iteration 3781 / 3820) loss: 1.043709\n",
      "(Iteration 3791 / 3820) loss: 1.007240\n",
      "(Iteration 3801 / 3820) loss: 1.192698\n",
      "(Iteration 3811 / 3820) loss: 1.119114\n",
      "(Epoch 20 / 20) train acc: 0.655000; val_acc: 0.504000\n"
     ]
    }
   ],
   "source": [
    "best_model = None\n",
    "################################################################################\n",
    "# TODO: Train the best FullyConnectedNet that you can on CIFAR-10. You might   #\n",
    "# find batch/layer normalization and dropout useful. Store your best model in  #\n",
    "# the best_model variable.                                                     #\n",
    "################################################################################\n",
    "# *****START OF YOUR CODE (DO NOT DELETE/MODIFY THIS LINE)*****\n",
    "\n",
    "model = FullyConnectedNet([100, 100, 100, 100, 100], weight_scale=5e-2)\n",
    "\n",
    "solver = Solver(model, data,\n",
    "              num_epochs=20, batch_size=256,\n",
    "              update_rule=\"rmsprop\",\n",
    "              optim_config={\n",
    "                'learning_rate': 1e-4\n",
    "              },\n",
    "              verbose=True)\n",
    "solvers[update_rule] = solver\n",
    "solver.train()\n",
    "best_model = model\n",
    "# *****END OF YOUR CODE (DO NOT DELETE/MODIFY THIS LINE)*****\n",
    "################################################################################\n",
    "#                              END OF YOUR CODE                                #\n",
    "################################################################################"
   ]
  },
  {
   "cell_type": "markdown",
   "metadata": {},
   "source": [
    "# Test your model!\n",
    "Run your best model on the validation and test sets. You should achieve above 50% accuracy on the validation set."
   ]
  },
  {
   "cell_type": "code",
   "execution_count": 141,
   "metadata": {},
   "outputs": [
    {
     "name": "stdout",
     "output_type": "stream",
     "text": [
      "Validation set accuracy:  0.512\n",
      "Test set accuracy:  0.477\n"
     ]
    }
   ],
   "source": [
    "y_test_pred = np.argmax(best_model.loss(data['X_test']), axis=1)\n",
    "y_val_pred = np.argmax(best_model.loss(data['X_val']), axis=1)\n",
    "print('Validation set accuracy: ', (y_val_pred == data['y_val']).mean())\n",
    "print('Test set accuracy: ', (y_test_pred == data['y_test']).mean())"
   ]
  },
  {
   "cell_type": "code",
   "execution_count": null,
   "metadata": {},
   "outputs": [],
   "source": []
  }
 ],
 "metadata": {
  "kernelspec": {
   "display_name": "Python 3",
   "language": "python",
   "name": "python3"
  },
  "language_info": {
   "codemirror_mode": {
    "name": "ipython",
    "version": 3
   },
   "file_extension": ".py",
   "mimetype": "text/x-python",
   "name": "python",
   "nbconvert_exporter": "python",
   "pygments_lexer": "ipython3",
   "version": "3.7.3"
  }
 },
 "nbformat": 4,
 "nbformat_minor": 4
}
